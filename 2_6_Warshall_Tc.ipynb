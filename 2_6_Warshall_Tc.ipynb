{
  "nbformat": 4,
  "nbformat_minor": 0,
  "metadata": {
    "colab": {
      "provenance": []
    },
    "kernelspec": {
      "name": "python3",
      "display_name": "Python 3"
    },
    "language_info": {
      "name": "python"
    }
  },
  "cells": [
    {
      "cell_type": "code",
      "execution_count": null,
      "metadata": {
        "id": "nSEY8ynFwFD7",
        "outputId": "facfccdf-da87-40e1-e5d3-02cfd1dbcd1e",
        "colab": {
          "base_uri": "https://localhost:8080/"
        }
      },
      "outputs": [
        {
          "output_type": "stream",
          "name": "stdout",
          "text": [
            "[1, 1, 1, 1]\n",
            "[0, 1, 1, 1]\n",
            "[0, 0, 1, 1]\n",
            "[0, 0, 0, 1]\n"
          ]
        }
      ],
      "source": [
        "def warshall_tc(adj_matrix):\n",
        "    \"\"\"\n",
        "    adj_matrix: 2D list (n x n) of 0/1, where 1 means an edge i->j exists.\n",
        "    Returns: 2D list (n x n) of 0/1, where 1 means j is reachable from i.\n",
        "    \"\"\"\n",
        "    n = len(adj_matrix)\n",
        "    # copy to avoid mutating the input\n",
        "    reach = [row[:] for row in adj_matrix]\n",
        "\n",
        "    for k in range(n):\n",
        "        for i in range(n):\n",
        "            for j in range(n):\n",
        "                # if i can reach k and k can reach j, then i can reach j\n",
        "                if reach[i][k] and reach[k][j]:\n",
        "                    reach[i][j] = 1\n",
        "    return reach\n",
        "\n",
        "# Example usage:\n",
        "adj = [\n",
        "    [1, 1, 0, 0],  # node 0 -> itself and 1\n",
        "    [0, 1, 1, 0],  # node 1 -> itself and 2\n",
        "    [0, 0, 1, 1],  # node 2 -> itself and 3\n",
        "    [0, 0, 0, 1]   # node 3 -> itself\n",
        "]\n",
        "\n",
        "tc = warshall_tc(adj)\n",
        "for row in tc:\n",
        "    print(row)\n"
      ]
    }
  ]
}