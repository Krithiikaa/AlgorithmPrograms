{
  "nbformat": 4,
  "nbformat_minor": 0,
  "metadata": {
    "colab": {
      "provenance": []
    },
    "kernelspec": {
      "name": "python3",
      "display_name": "Python 3"
    },
    "language_info": {
      "name": "python"
    }
  },
  "cells": [
    {
      "cell_type": "code",
      "execution_count": null,
      "metadata": {
        "colab": {
          "base_uri": "https://localhost:8080/"
        },
        "id": "n0syXtzWwcLr",
        "outputId": "3c2a94e3-0eae-480c-e14d-e76fcc1263f7"
      },
      "outputs": [
        {
          "output_type": "stream",
          "name": "stdout",
          "text": [
            "Maximum: 78\n",
            "Minimum: 2\n"
          ]
        }
      ],
      "source": [
        "def find_max_min(arr, low, high):\n",
        "    if low == high:  # Only one element\n",
        "        return arr[low], arr[low]\n",
        "    elif high == low + 1:  # Two elements\n",
        "        if arr[low] > arr[high]:\n",
        "            return arr[low], arr[high]\n",
        "        else:\n",
        "            return arr[high], arr[low]\n",
        "    else:\n",
        "        mid = (low + high) // 2\n",
        "        max1, min1 = find_max_min(arr, low, mid)\n",
        "        max2, min2 = find_max_min(arr, mid + 1, high)\n",
        "        return max(max1, max2), min(min1, min2)\n",
        "\n",
        "# Example usage\n",
        "arr = [10, 20, 3, 45, 6, 78, 2, 56]\n",
        "maximum, minimum = find_max_min(arr, 0, len(arr) - 1)\n",
        "print(\"Maximum:\", maximum)\n",
        "print(\"Minimum:\", minimum)\n"
      ]
    }
  ]
}