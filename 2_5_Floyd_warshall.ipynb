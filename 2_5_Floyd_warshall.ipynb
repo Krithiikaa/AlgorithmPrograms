{
  "nbformat": 4,
  "nbformat_minor": 0,
  "metadata": {
    "colab": {
      "provenance": []
    },
    "kernelspec": {
      "name": "python3",
      "display_name": "Python 3"
    },
    "language_info": {
      "name": "python"
    }
  },
  "cells": [
    {
      "cell_type": "code",
      "execution_count": null,
      "metadata": {
        "colab": {
          "base_uri": "https://localhost:8080/"
        },
        "id": "C-2vmS3jvpEe",
        "outputId": "8ebc0d59-acf9-484c-916d-bac119b52cbd"
      },
      "outputs": [
        {
          "output_type": "stream",
          "name": "stdout",
          "text": [
            "[0, 3, 5, 6]\n",
            "[5, 0, 2, 3]\n",
            "[3, 6, 0, 1]\n",
            "[2, 5, 7, 0]\n"
          ]
        }
      ],
      "source": [
        "def floyd_warshall(dist):\n",
        "    \"\"\"\n",
        "    dist: 2D list (n x n) with dist[i][j] = edge weight or float('inf') if no direct edge.\n",
        "    Returns: 2D list of shortest-path distances.\n",
        "    \"\"\"\n",
        "    n = len(dist)\n",
        "    # Make a copy so we don’t overwrite the original\n",
        "    d = [row[:] for row in dist]\n",
        "\n",
        "    for k in range(n):\n",
        "        for i in range(n):\n",
        "            for j in range(n):\n",
        "                # If going through k is shorter, update\n",
        "                if d[i][k] + d[k][j] < d[i][j]:\n",
        "                    d[i][j] = d[i][k] + d[k][j]\n",
        "    return d\n",
        "\n",
        "# Example usage:\n",
        "INF = float('inf')\n",
        "dist_matrix = [\n",
        "    [0,   3,   INF, 7],\n",
        "    [8,   0,   2,   INF],\n",
        "    [5,   INF, 0,   1],\n",
        "    [2,   INF, INF, 0]\n",
        "]\n",
        "\n",
        "shortest = floyd_warshall(dist_matrix)\n",
        "for row in shortest:\n",
        "    print(row)\n"
      ]
    }
  ]
}