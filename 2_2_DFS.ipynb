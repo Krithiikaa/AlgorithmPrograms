{
  "nbformat": 4,
  "nbformat_minor": 0,
  "metadata": {
    "colab": {
      "provenance": []
    },
    "kernelspec": {
      "name": "python3",
      "display_name": "Python 3"
    },
    "language_info": {
      "name": "python"
    }
  },
  "cells": [
    {
      "cell_type": "code",
      "execution_count": null,
      "metadata": {
        "id": "y9ISXV1adm7X",
        "outputId": "b4ba1807-de14-4850-bbcb-3838b883f8b5",
        "colab": {
          "base_uri": "https://localhost:8080/"
        }
      },
      "outputs": [
        {
          "output_type": "stream",
          "name": "stdout",
          "text": [
            "Path found: A -> B -> E -> F\n"
          ]
        }
      ],
      "source": [
        "def dfs(graph, start, goal, path=None, visited=None):\n",
        "    if path is None:\n",
        "        path = [start]\n",
        "    if visited is None:\n",
        "        visited = set()\n",
        "\n",
        "    visited.add(start)\n",
        "\n",
        "    if start == goal:\n",
        "        return path\n",
        "\n",
        "    for neighbor in graph.get(start, []):\n",
        "        if neighbor not in visited:\n",
        "            new_path = dfs(graph, neighbor, goal, path + [neighbor], visited)\n",
        "            if new_path:\n",
        "                return new_path\n",
        "\n",
        "    return None  # If no path is found\n",
        "# Define the graph\n",
        "graph = {\n",
        "    'A': ['B', 'C'],\n",
        "    'B': ['D', 'E'],\n",
        "    'C': ['F'],\n",
        "    'D': [],\n",
        "    'E': ['F'],\n",
        "    'F': []\n",
        "}\n",
        "\n",
        "# Start and goal nodes\n",
        "start_node = 'A'\n",
        "goal_node = 'F'\n",
        "\n",
        "# Run DFS\n",
        "result = dfs(graph, start_node, goal_node)\n",
        "\n",
        "# Print the result\n",
        "if result:\n",
        "    print(\"Path found:\", \" -> \".join(result))\n",
        "else:\n",
        "    print(\"No path found.\")\n"
      ]
    }
  ]
}