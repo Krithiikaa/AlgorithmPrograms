{
  "nbformat": 4,
  "nbformat_minor": 0,
  "metadata": {
    "colab": {
      "provenance": []
    },
    "kernelspec": {
      "name": "python3",
      "display_name": "Python 3"
    },
    "language_info": {
      "name": "python"
    }
  },
  "cells": [
    {
      "cell_type": "code",
      "execution_count": null,
      "metadata": {
        "colab": {
          "base_uri": "https://localhost:8080/"
        },
        "id": "kNobvvZHxALW",
        "outputId": "9fa49dad-592e-4e96-b3ba-dd8b5c6c11bd"
      },
      "outputs": [
        {
          "output_type": "stream",
          "name": "stdout",
          "text": [
            "Optimal Path (Brute Force): [0, 1, 3, 2, 0]\n",
            "Optimal Cost: 80\n",
            "\n",
            "Approx Path (Nearest Neighbor): [0, 1, 3, 2, 0]\n",
            "Approx Cost: 80\n",
            "\n",
            "Approximation Error: 0.00%\n"
          ]
        }
      ],
      "source": [
        "import itertools\n",
        "import math\n",
        "\n",
        "# Sample TSP distance matrix (4 cities)\n",
        "dist_matrix = [\n",
        "    [0, 10, 15, 20],\n",
        "    [10, 0, 35, 25],\n",
        "    [15, 35, 0, 30],\n",
        "    [20, 25, 30, 0]\n",
        "]\n",
        "\n",
        "# ----- Brute Force Optimal Solution -----\n",
        "def tsp_brute_force(matrix):\n",
        "    n = len(matrix)\n",
        "    cities = list(range(n))\n",
        "    min_path_cost = float('inf')\n",
        "    best_path = []\n",
        "\n",
        "    for perm in itertools.permutations(cities[1:]):\n",
        "        path = [0] + list(perm) + [0]\n",
        "        cost = sum(matrix[path[i]][path[i+1]] for i in range(n))\n",
        "        if cost < min_path_cost:\n",
        "            min_path_cost = cost\n",
        "            best_path = path\n",
        "\n",
        "    return best_path, min_path_cost\n",
        "\n",
        "# ----- Nearest Neighbor Approximation -----\n",
        "def tsp_nearest_neighbor(matrix):\n",
        "    n = len(matrix)\n",
        "    visited = [False] * n\n",
        "    path = [0]\n",
        "    visited[0] = True\n",
        "    cost = 0\n",
        "    current = 0\n",
        "\n",
        "    for _ in range(n - 1):\n",
        "        next_city = min((matrix[current][j], j) for j in range(n) if not visited[j])[1]\n",
        "        cost += matrix[current][next_city]\n",
        "        visited[next_city] = True\n",
        "        path.append(next_city)\n",
        "        current = next_city\n",
        "\n",
        "    cost += matrix[current][0]  # return to start\n",
        "    path.append(0)\n",
        "    return path, cost\n",
        "\n",
        "# Run both methods\n",
        "optimal_path, optimal_cost = tsp_brute_force(dist_matrix)\n",
        "approx_path, approx_cost = tsp_nearest_neighbor(dist_matrix)\n",
        "\n",
        "# Compute error\n",
        "error_percent = ((approx_cost - optimal_cost) / optimal_cost) * 100\n",
        "\n",
        "# Display results\n",
        "print(\"Optimal Path (Brute Force):\", optimal_path)\n",
        "print(\"Optimal Cost:\", optimal_cost)\n",
        "print(\"\\nApprox Path (Nearest Neighbor):\", approx_path)\n",
        "print(\"Approx Cost:\", approx_cost)\n",
        "print(\"\\nApproximation Error: {:.2f}%\".format(error_percent))\n"
      ]
    }
  ]
}