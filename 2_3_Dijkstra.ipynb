{
  "nbformat": 4,
  "nbformat_minor": 0,
  "metadata": {
    "colab": {
      "provenance": []
    },
    "kernelspec": {
      "name": "python3",
      "display_name": "Python 3"
    },
    "language_info": {
      "name": "python"
    }
  },
  "cells": [
    {
      "cell_type": "code",
      "execution_count": null,
      "metadata": {
        "id": "QDeMiB5rwSct"
      },
      "outputs": [],
      "source": [
        "import heapq\n",
        "\n",
        "def dijkstra(graph, start):\n",
        "    \"\"\"\n",
        "    graph: dict[node] = list of (neighbor, weight)\n",
        "    start: starting node\n",
        "    Returns: dict of shortest distances from start to every other node\n",
        "    \"\"\"\n",
        "    dist = {node: float('inf') for node in graph}\n",
        "    dist[start] = 0\n",
        "    visited = set()\n",
        "    min_heap = [(0, start)]\n",
        "\n",
        "    while min_heap:\n",
        "        current_dist, current_node = heapq.heappop(min_heap)\n",
        "\n",
        "        if current_node in visited:\n",
        "            continue\n",
        "        visited.add(current_node)\n",
        "\n",
        "        for neighbor, weight in graph[current_node]:\n",
        "            distance = current_dist + weight\n",
        "            if distance < dist[neighbor]:\n",
        "                dist[neighbor] = distance\n",
        "                heapq.heappush(min_heap, (distance, neighbor))\n",
        "\n",
        "    return dist\n",
        "\n",
        "# Example usage:\n",
        "graph = {\n",
        "    'A': [('B', 4), ('C', 1)],\n",
        "    'B': [('E', 4)],\n",
        "    'C': [('B', 2), ('D', 4)],\n",
        "    'D': [('E', 4)],\n",
        "    'E': []\n",
        "}\n",
        "\n",
        "distances = dijkstra(graph, 'A')\n",
        "print(\"Shortest distances from A:\")\n",
        "for node, d in distances.items():\n",
        "    print(f\"{node}: {d}\")\n"
      ]
    }
  ]
}