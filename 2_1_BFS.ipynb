{
  "nbformat": 4,
  "nbformat_minor": 0,
  "metadata": {
    "colab": {
      "provenance": []
    },
    "kernelspec": {
      "name": "python3",
      "display_name": "Python 3"
    },
    "language_info": {
      "name": "python"
    }
  },
  "cells": [
    {
      "cell_type": "code",
      "execution_count": null,
      "metadata": {
        "id": "KAB1cZQhVCmj"
      },
      "outputs": [],
      "source": [
        "from collections import deque\n",
        "def BFS(graph,start_node,goal_node)\n",
        "    if start_node not in graph:\n",
        "      print(\"Start node is not present in the graph\")\n",
        "      return None\n",
        "    if goal_node not in graph:\n",
        "      print(\"Goal node is not present in the graph\")\n",
        "      return None\n",
        "    visited=set()\n",
        "    queue=deque([[start_node]])\n",
        "    while queue:\n",
        "      path=queue.popleft()\n",
        "      node=path[-1]\n",
        "      if node == goal_node:\n",
        "        return path\n",
        "      if path not in visited:\n",
        "        visited.add(path)\n",
        "        for neighbour in graph.get(node, [])\n",
        "          new_path=list(path)\n",
        "          new_path.append(neighbour)\n",
        "          queue.append(new_path)\n",
        "      return None\n",
        "\n",
        "graph = {\n",
        "    'A' : ['B','C'],\n",
        "    'B' : ['D','E'],\n",
        "    'C' : ['F'],\n",
        "    'D' : [],\n",
        "    'E' : ['F'],\n",
        "    'F' : [];\n",
        "}\n",
        "start_node = 'A'\n",
        "goal_node ='F'\n",
        "result=BFS(graph,start_node,goal_node)\n",
        "if result:\n",
        "  print(\"Path Found :\",\"->\".join(result))\n",
        "else:\n",
        "  print(\"Path not found\")\n"
      ]
    },
    {
      "cell_type": "code",
      "source": [
        "from sklearn import datasets\n",
        "from sklearn.model_selection import train_test_split\n",
        "from sklearn.ensemble import RandomForestClassifier\n",
        "from sklearn.metrics import accuracy_score\n",
        "\n",
        "# Load dataset (Iris)\n",
        "iris = datasets.load_iris()\n",
        "X = iris.data\n",
        "y = iris.target\n",
        "\n",
        "# Split data\n",
        "X_train, X_test, y_train, y_test = train_test_split(X, y, test_size=0.3)\n",
        "\n",
        "# Train Random Forest\n",
        "model = RandomForestClassifier(n_estimators=100)  # 100 trees\n",
        "model.fit(X_train, y_train)\n",
        "\n",
        "# Predict & evaluate\n",
        "y_pred = model.predict(X_test)\n",
        "print(\"Accuracy:\", accuracy_score(y_test, y_pred))\n"
      ],
      "metadata": {
        "id": "t9vsNrw5WvA-",
        "colab": {
          "base_uri": "https://localhost:8080/"
        },
        "outputId": "cd619b25-c563-42eb-8def-c6e188cef243"
      },
      "execution_count": null,
      "outputs": [
        {
          "output_type": "stream",
          "name": "stdout",
          "text": [
            "Accuracy: 0.9777777777777777\n"
          ]
        }
      ]
    }
  ]
}