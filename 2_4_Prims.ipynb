{
  "nbformat": 4,
  "nbformat_minor": 0,
  "metadata": {
    "colab": {
      "provenance": []
    },
    "kernelspec": {
      "name": "python3",
      "display_name": "Python 3"
    },
    "language_info": {
      "name": "python"
    }
  },
  "cells": [
    {
      "cell_type": "code",
      "execution_count": null,
      "metadata": {
        "id": "JRs3DyH3vQyF",
        "outputId": "29652d62-bb82-4057-ba1d-acfd0c8ba429",
        "colab": {
          "base_uri": "https://localhost:8080/"
        }
      },
      "outputs": [
        {
          "output_type": "stream",
          "name": "stdout",
          "text": [
            "MST edges: [('A', 'B', 2), ('B', 'C', 1), ('B', 'D', 4)]\n",
            "Total cost: 7\n"
          ]
        }
      ],
      "source": [
        "import heapq\n",
        "\n",
        "def prim_mst(adj):\n",
        "    \"\"\"\n",
        "    adj: dict[node] = list of (neighbor, weight)\n",
        "    Returns: list of edges in the MST and the total cost.\n",
        "    \"\"\"\n",
        "    start = next(iter(adj))           # pick an arbitrary start node\n",
        "    visited = set([start])\n",
        "    edges = []\n",
        "    min_heap = []\n",
        "\n",
        "    # Push all edges from the start node into the heap\n",
        "    for v, w in adj[start]:\n",
        "        heapq.heappush(min_heap, (w, start, v))\n",
        "\n",
        "    mst_cost = 0\n",
        "    mst_edges = []\n",
        "\n",
        "    while min_heap and len(visited) < len(adj):\n",
        "        weight, u, v = heapq.heappop(min_heap)\n",
        "        if v in visited:\n",
        "            continue\n",
        "        # This edge is the smallest that grows the tree\n",
        "        visited.add(v)\n",
        "        mst_cost += weight\n",
        "        mst_edges.append((u, v, weight))\n",
        "\n",
        "        # Add all edges from the newly visited node\n",
        "        for to, w2 in adj[v]:\n",
        "            if to not in visited:\n",
        "                heapq.heappush(min_heap, (w2, v, to))\n",
        "\n",
        "    return mst_edges, mst_cost\n",
        "\n",
        "# Example usage:\n",
        "graph = {\n",
        "    'A': [('B', 2), ('C', 3)],\n",
        "    'B': [('A', 2), ('C', 1), ('D', 4)],\n",
        "    'C': [('A', 3), ('B', 1), ('D', 5)],\n",
        "    'D': [('B', 4), ('C', 5)]\n",
        "}\n",
        "\n",
        "mst, cost = prim_mst(graph)\n",
        "print(\"MST edges:\", mst)\n",
        "print(\"Total cost:\", cost)\n"
      ]
    }
  ]
}