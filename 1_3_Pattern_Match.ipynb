{
  "nbformat": 4,
  "nbformat_minor": 0,
  "metadata": {
    "colab": {
      "provenance": []
    },
    "kernelspec": {
      "name": "python3",
      "display_name": "Python 3"
    },
    "language_info": {
      "name": "python"
    }
  },
  "cells": [
    {
      "cell_type": "code",
      "execution_count": null,
      "metadata": {
        "id": "0AKDYXvi0AQf",
        "outputId": "2c7b9473-c243-473f-ac8a-3d3fb29bc4f7",
        "colab": {
          "base_uri": "https://localhost:8080/"
        }
      },
      "outputs": [
        {
          "output_type": "stream",
          "name": "stdout",
          "text": [
            "Pattern found at index 10\n"
          ]
        }
      ],
      "source": [
        "def search(pat, txt):\n",
        "    m = len(pat)\n",
        "    n = len(txt)\n",
        "\n",
        "    for i in range(n - m + 1):\n",
        "        match = True\n",
        "        for j in range(m):\n",
        "            if txt[i + j] != pat[j]:\n",
        "                match = False\n",
        "                break\n",
        "        if match:\n",
        "            print(f\"Pattern found at index {i}\")\n",
        "\n",
        "# Example usage\n",
        "txt = \"ABABDABACDABABCABAB\"\n",
        "pat = \"ABABCABAB\"\n",
        "search(pat, txt)\n"
      ]
    }
  ]
}